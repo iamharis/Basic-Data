{
 "cells": [
  {
   "cell_type": "code",
   "execution_count": 2,
   "metadata": {},
   "outputs": [
    {
     "name": "stdout",
     "output_type": "stream",
     "text": [
      "[1 2 3 4 5]\n"
     ]
    }
   ],
   "source": [
    "\"\"\"\n",
    "Numpy\n",
    "Linear Algebra lib python \n",
    "math and log operation on array(both in Multidimen)\n",
    "\"\"\"\n",
    "\n",
    "import numpy as np\n",
    "a = np.array([1,2,3,4,5])\n",
    "print(a)"
   ]
  },
  {
   "cell_type": "code",
   "execution_count": 4,
   "metadata": {},
   "outputs": [
    {
     "name": "stdout",
     "output_type": "stream",
     "text": [
      "[[1 2 3]\n",
      " [4 5 6]]\n"
     ]
    }
   ],
   "source": [
    "#2D Array \n",
    "b = np.array([[1,2,3],[4,5,6]])\n",
    "print(b)"
   ]
  },
  {
   "cell_type": "code",
   "execution_count": 5,
   "metadata": {},
   "outputs": [
    {
     "data": {
      "text/plain": [
       "array([[0., 0., 0., 0.],\n",
       "       [0., 0., 0., 0.],\n",
       "       [0., 0., 0., 0.]])"
      ]
     },
     "execution_count": 5,
     "metadata": {},
     "output_type": "execute_result"
    }
   ],
   "source": [
    "#Numpy array initialization \n",
    "#1 all elemets of a x*y with 0\n",
    "\n",
    "np.zeros((3,4))"
   ]
  },
  {
   "cell_type": "code",
   "execution_count": 7,
   "metadata": {},
   "outputs": [
    {
     "data": {
      "text/plain": [
       "array([1, 3, 5, 7, 9])"
      ]
     },
     "execution_count": 7,
     "metadata": {},
     "output_type": "execute_result"
    }
   ],
   "source": [
    "#Arranging the numbers betwen X & Y with an interval of Z\n",
    "np.arange(1,10,2)"
   ]
  },
  {
   "cell_type": "code",
   "execution_count": 8,
   "metadata": {},
   "outputs": [
    {
     "data": {
      "text/plain": [
       "array([10, 12, 14, 16, 18])"
      ]
     },
     "execution_count": 8,
     "metadata": {},
     "output_type": "execute_result"
    }
   ],
   "source": [
    "# even numbers between 10 and 20\n",
    "np.arange(10,20,2)"
   ]
  },
  {
   "cell_type": "code",
   "execution_count": 9,
   "metadata": {},
   "outputs": [],
   "source": [
    "# arranging z numbers between x and y"
   ]
  },
  {
   "cell_type": "code",
   "execution_count": 10,
   "metadata": {},
   "outputs": [
    {
     "data": {
      "text/plain": [
       "array([ 5.        ,  5.55555556,  6.11111111,  6.66666667,  7.22222222,\n",
       "        7.77777778,  8.33333333,  8.88888889,  9.44444444, 10.        ])"
      ]
     },
     "execution_count": 10,
     "metadata": {},
     "output_type": "execute_result"
    }
   ],
   "source": [
    "np.linspace(5, 10, 10)"
   ]
  },
  {
   "cell_type": "code",
   "execution_count": 12,
   "metadata": {},
   "outputs": [
    {
     "data": {
      "text/plain": [
       "array([ 5.  ,  6.25,  7.5 ,  8.75, 10.  ])"
      ]
     },
     "execution_count": 12,
     "metadata": {},
     "output_type": "execute_result"
    }
   ],
   "source": [
    "np.linspace(5, 10, 5)"
   ]
  },
  {
   "cell_type": "code",
   "execution_count": 13,
   "metadata": {},
   "outputs": [
    {
     "data": {
      "text/plain": [
       "array([ 0.,  2.,  4.,  6.,  8., 10.])"
      ]
     },
     "execution_count": 13,
     "metadata": {},
     "output_type": "execute_result"
    }
   ],
   "source": [
    "np.linspace(0, 10, 6)"
   ]
  },
  {
   "cell_type": "code",
   "execution_count": 14,
   "metadata": {},
   "outputs": [
    {
     "data": {
      "text/plain": [
       "array([[10, 10, 10],\n",
       "       [10, 10, 10]])"
      ]
     },
     "execution_count": 14,
     "metadata": {},
     "output_type": "execute_result"
    }
   ],
   "source": [
    "#filling same no in  a arraay of din X*Y\n",
    "\n",
    "np.full((2,3),10)"
   ]
  },
  {
   "cell_type": "code",
   "execution_count": 18,
   "metadata": {},
   "outputs": [
    {
     "data": {
      "text/plain": [
       "array([[0.95793927, 0.15090851, 0.69232556],\n",
       "       [0.17549726, 0.50537972, 0.0661379 ]])"
      ]
     },
     "execution_count": 18,
     "metadata": {},
     "output_type": "execute_result"
    }
   ],
   "source": [
    "#filling random numbers in a array \n",
    "np.random.random((2,3))"
   ]
  },
  {
   "cell_type": "markdown",
   "metadata": {},
   "source": [
    "### Inspecting a Numpy Array "
   ]
  },
  {
   "cell_type": "code",
   "execution_count": 19,
   "metadata": {},
   "outputs": [
    {
     "name": "stdout",
     "output_type": "stream",
     "text": [
      "(2, 3)\n"
     ]
    }
   ],
   "source": [
    "#np.shape()\n",
    "\n",
    "a = np.array([[2,3,4],[4,4,6]])\n",
    "print(a.shape)"
   ]
  },
  {
   "cell_type": "code",
   "execution_count": 20,
   "metadata": {},
   "outputs": [
    {
     "name": "stdout",
     "output_type": "stream",
     "text": [
      "(3, 4)\n"
     ]
    }
   ],
   "source": [
    "b = np.array([[1,2,3,4],[2,3,4,6],[6,7,8,9]])\n",
    "print(b.shape)"
   ]
  },
  {
   "cell_type": "code",
   "execution_count": 22,
   "metadata": {},
   "outputs": [
    {
     "name": "stdout",
     "output_type": "stream",
     "text": [
      "[[2 3]\n",
      " [4 4]\n",
      " [4 6]]\n"
     ]
    }
   ],
   "source": [
    "#Resizing the array \n",
    "\n",
    "a = np.array([[2,3,4],[4,4,6]])\n",
    "a.shape = (3,2)\n",
    "print(a)"
   ]
  },
  {
   "cell_type": "code",
   "execution_count": 23,
   "metadata": {},
   "outputs": [
    {
     "name": "stdout",
     "output_type": "stream",
     "text": [
      "[[2]\n",
      " [3]\n",
      " [4]\n",
      " [4]\n",
      " [2]\n",
      " [4]\n",
      " [4]\n",
      " [6]]\n"
     ]
    }
   ],
   "source": [
    "a = np.array([[2,3,4,4],[2,4,4,6]])\n",
    "a.shape = (8,1) # Trick: X*y = total number of elements in array \n",
    "print(a)"
   ]
  },
  {
   "cell_type": "code",
   "execution_count": 25,
   "metadata": {},
   "outputs": [
    {
     "name": "stdout",
     "output_type": "stream",
     "text": [
      "1\n",
      "[[[ 0  1  2]\n",
      "  [ 3  4  5]\n",
      "  [ 6  7  8]\n",
      "  [ 9 10 11]]\n",
      "\n",
      " [[12 13 14]\n",
      "  [15 16 17]\n",
      "  [18 19 20]\n",
      "  [21 22 23]]]\n",
      "3\n"
     ]
    }
   ],
   "source": [
    "#return the dimentsion of arrau \n",
    "a = np.arange(24)\n",
    "print(a.ndim)\n",
    "#reshaping\n",
    "b = a.reshape(2,4,3)\n",
    "print(b)\n",
    "print(b.ndim)"
   ]
  },
  {
   "cell_type": "code",
   "execution_count": 28,
   "metadata": {},
   "outputs": [
    {
     "name": "stdout",
     "output_type": "stream",
     "text": [
      "24\n"
     ]
    }
   ],
   "source": [
    "# Find the number of elemetns in a array \n",
    "a = np.arange(24)\n",
    "print(a.size)"
   ]
  },
  {
   "cell_type": "code",
   "execution_count": 31,
   "metadata": {},
   "outputs": [
    {
     "data": {
      "text/plain": [
       "dtype('int32')"
      ]
     },
     "execution_count": 31,
     "metadata": {},
     "output_type": "execute_result"
    }
   ],
   "source": [
    "a = np.arange(24)\n",
    "a.dtype"
   ]
  },
  {
   "cell_type": "code",
   "execution_count": 32,
   "metadata": {},
   "outputs": [
    {
     "data": {
      "text/plain": [
       "dtype('float64')"
      ]
     },
     "execution_count": 32,
     "metadata": {},
     "output_type": "execute_result"
    }
   ],
   "source": [
    "a = np.arange(24, dtype = float)\n",
    "a.dtype"
   ]
  },
  {
   "cell_type": "markdown",
   "metadata": {},
   "source": [
    "### Numpy array Maths "
   ]
  },
  {
   "cell_type": "code",
   "execution_count": 34,
   "metadata": {},
   "outputs": [
    {
     "data": {
      "text/plain": [
       "60"
      ]
     },
     "execution_count": 34,
     "metadata": {},
     "output_type": "execute_result"
    }
   ],
   "source": [
    "#sum of all the elemts, this is the default value \n",
    "np.sum([[10, 20],[10,20]])"
   ]
  },
  {
   "cell_type": "code",
   "execution_count": 35,
   "metadata": {},
   "outputs": [
    {
     "data": {
      "text/plain": [
       "array([30, 30])"
      ]
     },
     "execution_count": 35,
     "metadata": {},
     "output_type": "execute_result"
    }
   ],
   "source": [
    "#sum of individual rows\n",
    "np.sum([[10, 20],[10,20]], axis =1)"
   ]
  },
  {
   "cell_type": "code",
   "execution_count": 36,
   "metadata": {},
   "outputs": [
    {
     "data": {
      "text/plain": [
       "array([20, 40])"
      ]
     },
     "execution_count": 36,
     "metadata": {},
     "output_type": "execute_result"
    }
   ],
   "source": [
    "#Sum of individual coloums\n",
    "np.sum([[10, 20],[10,20]], axis =0)"
   ]
  },
  {
   "cell_type": "code",
   "execution_count": 40,
   "metadata": {},
   "outputs": [
    {
     "data": {
      "text/plain": [
       "-10"
      ]
     },
     "execution_count": 40,
     "metadata": {},
     "output_type": "execute_result"
    }
   ],
   "source": [
    "#similary sub divide or  mul\n",
    "np.subtract(10,20)#,[10,20]])"
   ]
  },
  {
   "cell_type": "code",
   "execution_count": 41,
   "metadata": {},
   "outputs": [
    {
     "data": {
      "text/plain": [
       "array([ 2,  8, 18])"
      ]
     },
     "execution_count": 41,
     "metadata": {},
     "output_type": "execute_result"
    }
   ],
   "source": [
    "a = np.array([2,4,6])\n",
    "b = np.array([1,2,3])\n",
    "np.multiply(a,b)"
   ]
  },
  {
   "cell_type": "code",
   "execution_count": 42,
   "metadata": {},
   "outputs": [
    {
     "data": {
      "text/plain": [
       "array([[ 2,  8, 18],\n",
       "       [ 1,  4,  9]])"
      ]
     },
     "execution_count": 42,
     "metadata": {},
     "output_type": "execute_result"
    }
   ],
   "source": [
    "a = np.array([[2,4,6],[1,2,3]])\n",
    "b = np.array([[1,2,3],[1,2,3]])\n",
    "np.multiply(a,b)"
   ]
  },
  {
   "cell_type": "code",
   "execution_count": 45,
   "metadata": {},
   "outputs": [
    {
     "name": "stdout",
     "output_type": "stream",
     "text": [
      "Exponenet: [  7.3890561   54.59815003 403.42879349]\n",
      "Sq rt: [1.41421356 2.         2.44948974]\n",
      "Sin: [ 0.90929743 -0.7568025  -0.2794155 ]\n",
      "Cos: [-0.41614684 -0.65364362  0.96017029]\n",
      "Log: [0.69314718 1.38629436 1.79175947]\n"
     ]
    }
   ],
   "source": [
    "#Similarly we have other function\n",
    "a = np.array([2,4,6])\n",
    "print(\"Exponenet:\", np.exp(a))\n",
    "print(\"Sq rt:\", np.sqrt(a))\n",
    "print(\"Sin:\", np.sin(a))\n",
    "print(\"Cos:\", np.cos(a))\n",
    "print(\"Log:\", np.log(a))"
   ]
  },
  {
   "cell_type": "code",
   "execution_count": 47,
   "metadata": {},
   "outputs": [
    {
     "name": "stdout",
     "output_type": "stream",
     "text": [
      "[False False False]\n",
      "[ True False False]\n",
      "[False  True False]\n"
     ]
    }
   ],
   "source": [
    "#Array Comparison \n",
    "#element wise comparison\n",
    "a = [1,2,3]\n",
    "b = [2,3,4]\n",
    "c = [1,3,0]\n",
    "print(np.equal(a,b))\n",
    "print(np.equal(a,c))\n",
    "print(np.equal(b,c))"
   ]
  },
  {
   "cell_type": "code",
   "execution_count": 48,
   "metadata": {},
   "outputs": [
    {
     "name": "stdout",
     "output_type": "stream",
     "text": [
      "False\n",
      "True\n",
      "False\n"
     ]
    }
   ],
   "source": [
    "a = [1,2,3]\n",
    "b = [2,3,4]\n",
    "c = [1,2,3]\n",
    "print(np.array_equal(a,b))\n",
    "print(np.array_equal(a,c))\n",
    "print(np.array_equal(b,c))"
   ]
  },
  {
   "cell_type": "code",
   "execution_count": 50,
   "metadata": {},
   "outputs": [
    {
     "name": "stdout",
     "output_type": "stream",
     "text": [
      "Sum: 6\n",
      "Min Val: 1\n",
      "Mean: 2.0\n",
      "Median: 2.0\n",
      "Corelation Coeff: 1.0\n",
      "Standard dev: 0.816496580927726\n"
     ]
    }
   ],
   "source": [
    "#Aggregate Functions\n",
    "\n",
    "a = [1,2,3]\n",
    "b = [2,3,4]\n",
    "c = [1,3,0]\n",
    "\n",
    "print(\"Sum:\",np.sum(a))\n",
    "print(\"Min Val:\",np.min(a))\n",
    "print(\"Mean:\",np.mean(a))\n",
    "print(\"Median:\",np.median(a))\n",
    "print(\"Corelation Coeff:\",np.corrcoef(a))\n",
    "print(\"Standard dev:\",np.std(a))"
   ]
  },
  {
   "cell_type": "code",
   "execution_count": 52,
   "metadata": {},
   "outputs": [
    {
     "name": "stdout",
     "output_type": "stream",
     "text": [
      "First array: \n",
      " [[0 0 0]\n",
      " [1 2 3]\n",
      " [4 5 6]\n",
      " [5 6 7]] \n",
      "\n",
      "Second array: \n",
      " [0 1 2] \n",
      "\n",
      "1st + 2nd:\n",
      " [[0 1 2]\n",
      " [1 3 5]\n",
      " [4 6 8]\n",
      " [5 7 9]]\n"
     ]
    }
   ],
   "source": [
    "#Numpy Broadcasting\n",
    "\n",
    "a = np.array([[0,0,0],[1,2,3],[4,5,6],[5,6,7]])\n",
    "b = np.array([0,1,2])\n",
    "print(\"First array: \\n\", a, \"\\n\")\n",
    "print(\"Second array: \\n\", b, \"\\n\")\n",
    "print(\"1st + 2nd:\\n\", a+b)\n",
    "\n"
   ]
  },
  {
   "cell_type": "markdown",
   "metadata": {},
   "source": [
    "### Numpy Array manuplation "
   ]
  },
  {
   "cell_type": "code",
   "execution_count": 58,
   "metadata": {},
   "outputs": [
    {
     "name": "stdout",
     "output_type": "stream",
     "text": [
      "concatenate\n",
      " [1 2 3 4 5 6]\n",
      "Horizontal_stack\n",
      " [1 2 3 4 5 6]\n",
      "vertical_stack\n",
      " [[1 2 3]\n",
      " [4 5 6]]\n",
      "Coloum wise\n",
      " [[1 4]\n",
      " [2 5]\n",
      " [3 6]]\n"
     ]
    }
   ],
   "source": [
    "#concatenation, stacking row-wise: Vertically, row-wise: Horizontal and coloun-wise\n",
    "\n",
    "\n",
    "a = np.array([1,2,3])\n",
    "b = np.array([4,5,6])\n",
    "#Concatenate\n",
    "\n",
    "print(\"concatenate\\n\", np.concatenate((a,b)))\n",
    "#row-wise: Horizontal\n",
    "print(\"Horizontal_stack\\n\", np.hstack((a,b)))\n",
    "#stacking row-wise: Vertically\n",
    "print(\"vertical_stack\\n\",np.vstack((a,b)))\n",
    "#Stacking coloum-wise\n",
    "print(\"Coloum wise\\n\", np.column_stack((a,b)))"
   ]
  },
  {
   "cell_type": "code",
   "execution_count": 65,
   "metadata": {},
   "outputs": [
    {
     "name": "stdout",
     "output_type": "stream",
     "text": [
      "[[ 0  1  2  3]\n",
      " [ 4  5  6  7]\n",
      " [ 8  9 10 11]\n",
      " [12 13 14 15]] \n",
      "\n",
      "\n",
      "\n",
      "Spliting Horizontally:\n",
      " [array([[ 0,  1],\n",
      "       [ 4,  5],\n",
      "       [ 8,  9],\n",
      "       [12, 13]]), array([[ 2,  3],\n",
      "       [ 6,  7],\n",
      "       [10, 11],\n",
      "       [14, 15]])]\n",
      "\n",
      "\n",
      "Custom Split\n",
      ": [array([[ 0,  1],\n",
      "       [ 4,  5],\n",
      "       [ 8,  9],\n",
      "       [12, 13]]), array([[ 2],\n",
      "       [ 6],\n",
      "       [10],\n",
      "       [14]]), array([[ 3],\n",
      "       [ 7],\n",
      "       [11],\n",
      "       [15]])]\n"
     ]
    }
   ],
   "source": [
    "# Splitting Array \n",
    "x= np.arange(16).reshape(4,4)\n",
    "print(x,\"\\n\")\n",
    "print(\"\\n\\nSpliting Horizontally:\\n\", np.hsplit(x,2))\n",
    "print(\"\\n\\nCustom Split\\n:\", np.hsplit(x,np.array([2,3])))"
   ]
  },
  {
   "cell_type": "markdown",
   "metadata": {},
   "source": [
    "#### Indexing and slicing in Numpy "
   ]
  },
  {
   "cell_type": "code",
   "execution_count": 67,
   "metadata": {},
   "outputs": [],
   "source": [
    "a = ['m','o','n','t','y',' ','p','y','t','h','o','n']"
   ]
  },
  {
   "cell_type": "code",
   "execution_count": 68,
   "metadata": {},
   "outputs": [
    {
     "data": {
      "text/plain": [
       "['m', 'o', 'n', 't', 'y']"
      ]
     },
     "execution_count": 68,
     "metadata": {},
     "output_type": "execute_result"
    }
   ],
   "source": [
    "a[0:5]"
   ]
  },
  {
   "cell_type": "code",
   "execution_count": 70,
   "metadata": {},
   "outputs": [
    {
     "data": {
      "text/plain": [
       "['p', 'y', 't', 'h', 'o', 'n']"
      ]
     },
     "execution_count": 70,
     "metadata": {},
     "output_type": "execute_result"
    }
   ],
   "source": [
    "a[6:12]"
   ]
  },
  {
   "cell_type": "code",
   "execution_count": 73,
   "metadata": {},
   "outputs": [
    {
     "name": "stdout",
     "output_type": "stream",
     "text": [
      "[1 2 3] \n",
      "\n",
      "[[4 5 6]\n",
      " [7 8 9]]\n"
     ]
    }
   ],
   "source": [
    "a = np.array([[1,2,3],[4,5,6],[7,8,9]])\n",
    "print(a[0],'\\n')\n",
    "print(a[1:,:])"
   ]
  },
  {
   "cell_type": "code",
   "execution_count": 74,
   "metadata": {},
   "outputs": [
    {
     "name": "stdout",
     "output_type": "stream",
     "text": [
      "[[5 6]\n",
      " [8 9]]\n"
     ]
    }
   ],
   "source": [
    "print(a[1:,1:])"
   ]
  },
  {
   "cell_type": "markdown",
   "metadata": {},
   "source": [
    "#### Numpy Vs List"
   ]
  },
  {
   "cell_type": "code",
   "execution_count": 76,
   "metadata": {},
   "outputs": [
    {
     "name": "stdout",
     "output_type": "stream",
     "text": [
      "Size of the list: 28000\n",
      "Size of the array 4000\n"
     ]
    }
   ],
   "source": [
    "#Numpy : Less Memory, Faster and Convinent \n",
    "\n",
    "import sys\n",
    "l = range(1000)\n",
    "print(\"Size of the list:\", sys.getsizeof(1)*len(l))\n",
    "\n",
    "a = np.arange(1000)\n",
    "print(\"Size of the array\", a.size*a.itemsize)\n"
   ]
  },
  {
   "cell_type": "code",
   "execution_count": 90,
   "metadata": {},
   "outputs": [],
   "source": [
    "#Comparision in terms of Speed\n",
    "import time\n",
    "\n",
    "def using_List():\n",
    "    t = time.time() #Initial Time\n",
    "    X = range(100000)\n",
    "    Y = range(100000)\n",
    "    Z = [X[i]+Y[i] for i in range(len(X))]\n",
    "    return time.time()- t\n",
    "\n",
    "def using_Numpy():\n",
    "    t = time.time()\n",
    "    a =np.arange(100000)\n",
    "    b = np.arange(100000)\n",
    "    z= a+b\n",
    "    return time.time()- t\n",
    "\n",
    "\n"
   ]
  },
  {
   "cell_type": "code",
   "execution_count": 92,
   "metadata": {},
   "outputs": [
    {
     "name": "stdout",
     "output_type": "stream",
     "text": [
      "5.1581621170043945 0.049686431884765625\n"
     ]
    }
   ],
   "source": [
    "list_time = using_List()\n",
    "Numpy_time = using_Numpy()\n",
    "\n",
    "print(list_time*100, Numpy_time*100)"
   ]
  },
  {
   "cell_type": "code",
   "execution_count": null,
   "metadata": {},
   "outputs": [],
   "source": [
    "# SCIPY\n",
    "\n",
    "\"\"\"\n",
    "Used for scientific and technical computing\n",
    "\n",
    "Contains modules for optimization, Lin Algebra, Integration, Interpolation, \n",
    "Special Fun, Fourier transform, Signal and image processing\n",
    "\n",
    "Operates on numpy\n",
    "\n",
    "SciPy Sub-packages\n",
    "scipy.cluster: for vectors\n",
    "scipy.stats\n",
    "scipy.optimize\n",
    "scipy.integrate\n",
    "scipy.linalg\n",
    "scipy.fftpack\n",
    "scipy.signal\n",
    "\n",
    "\"\"\""
   ]
  },
  {
   "cell_type": "code",
   "execution_count": 93,
   "metadata": {},
   "outputs": [],
   "source": [
    "import scipy.cluster"
   ]
  },
  {
   "cell_type": "code",
   "execution_count": 94,
   "metadata": {},
   "outputs": [
    {
     "data": {
      "text/plain": [
       "-8.370000000000001"
      ]
     },
     "execution_count": 94,
     "metadata": {},
     "output_type": "execute_result"
    }
   ],
   "source": [
    "from scipy import linalg \n",
    "import numpy as np \n",
    "new=np.array([[0.1,1,2],[3,0.2,1],[1,0.5,4]])\n",
    "linalg.det(new)"
   ]
  },
  {
   "cell_type": "code",
   "execution_count": 95,
   "metadata": {},
   "outputs": [
    {
     "name": "stdout",
     "output_type": "stream",
     "text": [
      "[[1 2 3 0 0 0]\n",
      " [0 0 0 7 8 9]]\n"
     ]
    }
   ],
   "source": [
    "import numpy \n",
    "array_1 = numpy.array([[1,2,3],[0,0,0]])\n",
    "array_2 = numpy.array([[0,0,0],[7,8,9]]) \n",
    "print(numpy.concatenate((array_1, array_2), axis = 1))"
   ]
  },
  {
   "cell_type": "code",
   "execution_count": 101,
   "metadata": {},
   "outputs": [],
   "source": [
    "import numpy as np \n",
    "from scipy import stats \n",
    "new=np.array([[0.1,1,2],[3,0.2,1],[1,0.5,4]]) \n",
    "_,p,_,_ =stats.chi2_contingency(new) "
   ]
  },
  {
   "cell_type": "code",
   "execution_count": 102,
   "metadata": {},
   "outputs": [
    {
     "data": {
      "text/plain": [
       "0.24642879111750018"
      ]
     },
     "execution_count": 102,
     "metadata": {},
     "output_type": "execute_result"
    }
   ],
   "source": [
    "p"
   ]
  },
  {
   "cell_type": "code",
   "execution_count": 100,
   "metadata": {},
   "outputs": [
    {
     "data": {
      "text/plain": [
       "array([1, 1, 1, 1, 1, 1, 0, 1, 0, 1, 0, 1, 1, 1])"
      ]
     },
     "execution_count": 100,
     "metadata": {},
     "output_type": "execute_result"
    }
   ],
   "source": [
    "from scipy.cluster.vq import kmeans,vq,whiten \n",
    "import matplotlib.pyplot as plt \n",
    "new=[0.1,1,3,0.2,1,0.5,12,0.2,10,0.5,10,2,5,0.8] \n",
    "plt.scatter(range(len(new)),new) \n",
    "centroid,_ = kmeans(new,2) \n",
    "idx, _ = vq(new,centroid) \n",
    "idx"
   ]
  },
  {
   "cell_type": "code",
   "execution_count": 103,
   "metadata": {},
   "outputs": [
    {
     "name": "stdout",
     "output_type": "stream",
     "text": [
      "[ 2.  3.  4.  5.  6.  7.  8.  9. 10.]\n"
     ]
    }
   ],
   "source": [
    "import numpy \n",
    "my_array = numpy.array([1.1, 2.2, 3.3, 4.4, 5.5, 6.6, 7.7, 8.8, 9.9]) \n",
    "print(numpy.ceil(my_array))"
   ]
  },
  {
   "cell_type": "code",
   "execution_count": null,
   "metadata": {},
   "outputs": [],
   "source": []
  }
 ],
 "metadata": {
  "kernelspec": {
   "display_name": "Python 3",
   "language": "python",
   "name": "python3"
  },
  "language_info": {
   "codemirror_mode": {
    "name": "ipython",
    "version": 3
   },
   "file_extension": ".py",
   "mimetype": "text/x-python",
   "name": "python",
   "nbconvert_exporter": "python",
   "pygments_lexer": "ipython3",
   "version": "3.6.7"
  }
 },
 "nbformat": 4,
 "nbformat_minor": 2
}
