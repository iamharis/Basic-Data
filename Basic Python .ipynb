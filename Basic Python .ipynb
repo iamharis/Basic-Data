{
 "cells": [
  {
   "cell_type": "code",
   "execution_count": null,
   "metadata": {},
   "outputs": [],
   "source": [
    "\"\"\"\n",
    "Variable \n",
    "How are values assigned \n",
    "\t single and multiple \n",
    "\t we do not have to specify the data type \n",
    "\t Multiple assignments \n",
    "\t\tmethod1: a = b = c = 10\n",
    "\t\tmethod2: a, b, c = 20, 30, 40\n",
    "\"\"\""
   ]
  },
  {
   "cell_type": "code",
   "execution_count": null,
   "metadata": {},
   "outputs": [],
   "source": [
    "\"\"\"\n",
    "Token: Basic source code (4 Types)\n",
    "\t1. Keywords: for, if, else etc.\n",
    "\n",
    "\t2. Identifier: variable, class or function names are identifiers, \n",
    "\t\tkeywords cannot be used as identifier such as we cannot use for as a variable name. \n",
    "\t\tIdentifier are case sensitive \n",
    "\t\tIdentifier cannot start with a number, but they can start with _\n",
    "\n",
    "\t3. Literals: constants used in python\n",
    "\t\tstring literals\n",
    "\t\t\tsingle = 'John' \n",
    "\t\t\tOR\n",
    "\t\t\tsingle = 'John\"\n",
    "\t\t\tMultiple = ''' Str1, \n",
    "\t\t\tstr2\n",
    "\t\t\tstr3\n",
    "\t\t\t...\n",
    "\t\t\t'''\n",
    "\t\tNumeric literals \n",
    "\t\t\tint : Just the number \n",
    "\t\t\tLong : Number followed by L\n",
    "\t\t\tfloat : a '.' in the number \n",
    "\t\t\tcomplex :3.143j\n",
    "\t\n",
    "\t\tBoolean literals \n",
    "\t\t\tTrue \n",
    "\t\t\tFalse\n",
    "\n",
    "\t\tSpecial literals \n",
    "\t\t\tIn python it is \"None\" equivalent to null in C or C++\n",
    " \n",
    "\t4. Operator - 7 Diff types \n",
    "\t\ta. Arithmetic\n",
    "\t\t\ti. +, -. %, /, *\n",
    "\t\tb. Assignment \n",
    "\t\t\ti. =, +=, -=, *= etc\n",
    "\t\tc. Comparison \n",
    "\t\t\ti. <, >, <=,>=, != \n",
    "\t\td. Logical \n",
    "\t\t\ti. and , or,  not\n",
    "\t\te. Bitwise \n",
    "\t\t\ti. & (and), | , >>(right shift), <<(left shift), ~(not)\n",
    "\t\t\t\n",
    "\t\tf. Identity \n",
    "\t\t\ti. Is or is not \n",
    "\t\t\tii. Ex x = 10\n",
    "\t\t\tiii.  x is 10 \n",
    "\t\t\tiv. o/p -> True\n",
    "\t\t\tv. X is not 10\n",
    "\t\t\tvi. o/p -> False \n",
    "\t\t\t\n",
    "\t\tg. Membership operator\n",
    "\t\t\ti. In and not in \n",
    "\t\t\tii. Pets = ['dog', 'cat', 'wolf']\n",
    "\t\t\t\"Lion\" in Pets \n",
    "\t\t\to/p-> False \n",
    "\t\t\t\"Wolf\" in Pets \n",
    "\t\t\to/p -> True\n",
    "\"\"\""
   ]
  },
  {
   "cell_type": "code",
   "execution_count": null,
   "metadata": {},
   "outputs": [],
   "source": [
    "\"\"\"\n",
    "Data Type in Python \n",
    "Immutable \n",
    "Numbers \n",
    "\n",
    "String \n",
    "Str = \"Attachment\"\n",
    "Str.find('me')\n",
    "o/p-> 6\n",
    "Str.replace(\"me\", \"m\")\n",
    "o/p-> 'Attachmnt'\n",
    "Str.replace(\"ment\",\"\")\n",
    "o/p-> 'Attach'\n",
    "Spltstr = 'word1, word2,word3'\n",
    "Spltstr.split(\",\")\n",
    "o/p -> ['word1', 'word2', 'word3']\n",
    "str = 'Intellipat'\n",
    "str.count('i')\n",
    "o/p->1\n",
    "str.upper()\n",
    "str.count('I')\n",
    "o/p->2\n",
    "str\n",
    "\n",
    "\n",
    "Tuples\n",
    "\n",
    "Mytyple = ('a', 'b', 'c', 'd')\n",
    "Mytuple1 = ('e', 'f')\n",
    "Mytuple += Mytuple1\n",
    "Print(Mytuple)\n",
    "o/p->('a', …….'f')\n",
    "Mytuple*2\n",
    "o/p ->\t( a…..f..a…..f)\n",
    "\n",
    "\n",
    "Mutable \n",
    "Lists \n",
    " Mylist = ['a', 10, 7.12, 'data']\n",
    "\n",
    "Dictionaries\n",
    "{}\n",
    "Key and Value or index for each values \n",
    "Integer keys, mixed keys, paring \n",
    "We can accessing the dict using key \n",
    "Use can use the key function for finding all the keys \n",
    "Mydict.key()\n",
    "Use the value function to find the values \n",
    "Mydict.Values()\n",
    "\n",
    "\n",
    "Sets\n",
    "Myset = { 1,2,3}\n",
    "\n",
    "Union(common values of both the set),\n",
    "S1= {1,2,'c'}\n",
    "S2 = {1,'b','c'}\n",
    "S1|S2 = {1,2,'c','b'}\n",
    "\n",
    "intersection \n",
    "S1= {1,2,'c'}\n",
    "S2 = {1,'b','c'}\n",
    "S1 &S2 = {1, 'c'}\n",
    "\n",
    "Difference \n",
    "S1= {1,2,'c'}\n",
    "S2 = {1,'b','c'}\n",
    "S1-S2 = {2,'b'}\n",
    "\n",
    "\"\"\""
   ]
  },
  {
   "cell_type": "code",
   "execution_count": null,
   "metadata": {},
   "outputs": [],
   "source": [
    "\"\"\"\n",
    "Flow control in Python \n",
    "\n",
    "    if/else\n",
    "\n",
    "        if Condition:\n",
    "            Statement1\n",
    "        else:\n",
    "            Statemen2\n",
    "\n",
    "    Nested if/else \n",
    "        if condition 1:\n",
    "            S1\n",
    "        elif c2:\n",
    "            S2\n",
    "        else:\n",
    "            S3\n",
    "\n",
    "    for Loop \n",
    "\n",
    "        for i in range ():\n",
    "            statement\n",
    "\n",
    "    While Loop\n",
    "\n",
    "        while(condition):\n",
    "            Statement \n",
    "\n",
    "\"\"\""
   ]
  },
  {
   "cell_type": "code",
   "execution_count": null,
   "metadata": {},
   "outputs": [],
   "source": [
    "\"\"\"\n",
    "Functions\n",
    "Two types \n",
    "User defined and inbuilt \n",
    "\n",
    "Two ways of calling the function\n",
    "call by value and call by reference \n",
    "\"\"\""
   ]
  },
  {
   "cell_type": "code",
   "execution_count": 21,
   "metadata": {},
   "outputs": [
    {
     "name": "stdout",
     "output_type": "stream",
     "text": [
      "B =  10\n",
      "B =  100\n",
      "A =  10\n"
     ]
    }
   ],
   "source": [
    "# call by Value \n",
    "a= 10\n",
    "def myfun(b):\n",
    "    print(\"B = \", b)\n",
    "    b = 100\n",
    "    print(\"B = \", b)\n",
    "myfun(a)\n",
    "print(\"A = \", a)"
   ]
  },
  {
   "cell_type": "code",
   "execution_count": 19,
   "metadata": {},
   "outputs": [
    {
     "name": "stdout",
     "output_type": "stream",
     "text": [
      "D =  [10, 20, 30]\n",
      "D =  [99, 98, 30]\n",
      "C =  [99, 98, 30]\n"
     ]
    }
   ],
   "source": [
    "# Call by reference \n",
    "c = [10,20,30]\n",
    "def myfun2(d):\n",
    "    print(\"D = \", d)\n",
    "    d[0] = 99\n",
    "    d[1] = 98\n",
    "    print(\"D = \", d)\n",
    "myfun2(c)\n",
    "print(\"C = \", c)"
   ]
  },
  {
   "cell_type": "code",
   "execution_count": 9,
   "metadata": {},
   "outputs": [
    {
     "name": "stdout",
     "output_type": "stream",
     "text": [
      "30\n"
     ]
    }
   ],
   "source": [
    "#lambda function can take multiple arguments but can only take one expression \n",
    "#lambda arguments: expression \n",
    "r= lambda x, y : x*y\n",
    "print(r(10,3))"
   ]
  },
  {
   "cell_type": "code",
   "execution_count": 10,
   "metadata": {},
   "outputs": [],
   "source": [
    "# power of lambda function, you can use it inside a function as an anonymous function\n",
    "def myfun(n):\n",
    "    return lambda a: a*n"
   ]
  },
  {
   "cell_type": "code",
   "execution_count": 14,
   "metadata": {},
   "outputs": [
    {
     "name": "stdout",
     "output_type": "stream",
     "text": [
      "<function myfun.<locals>.<lambda> at 0x0000027184208D90>\n",
      "24\n",
      "36\n"
     ]
    }
   ],
   "source": [
    "double = myfun(2)\n",
    "print(double)\n",
    "print(double(12))\n",
    "triple = myfun(3)\n",
    "print(triple(12))"
   ]
  },
  {
   "cell_type": "code",
   "execution_count": null,
   "metadata": {},
   "outputs": [],
   "source": [
    "\"\"\"\n",
    "File handling \n",
    "open, Read, write/create & Delete \n",
    "syntax: f = open(\"path of file', mode)\n",
    "    modes \n",
    "    \"r\" = read (will show error if the file does not exist \n",
    "    \"a\" = append (will create a file if the file does not exist, will append the content at the end of the file \n",
    "    \"w\" = write (will create a file if the file does not exist, over write the existing content)\n",
    "    \"x\" = create(will create a file and will return error if the file name already exist)\n",
    "\"\"\""
   ]
  },
  {
   "cell_type": "code",
   "execution_count": 28,
   "metadata": {},
   "outputs": [],
   "source": [
    "#path =\"C:\\Users\\owner\\Desktop\"\n",
    "f =open(\"hello.txt\", 'a')"
   ]
  },
  {
   "cell_type": "code",
   "execution_count": 30,
   "metadata": {},
   "outputs": [],
   "source": [
    "f= open(\"hello.txt\", \"w\")"
   ]
  },
  {
   "cell_type": "code",
   "execution_count": 49,
   "metadata": {},
   "outputs": [
    {
     "name": "stdout",
     "output_type": "stream",
     "text": [
      "Just testing \n",
      "\n",
      "Just testing 1\n",
      "\n",
      "Just testing 2\n",
      "\n",
      "Just testing 3\n",
      "\n",
      "Just testing 4\n",
      "\n",
      "Just testing 5\n"
     ]
    }
   ],
   "source": [
    "f = open(\"hello.txt\")\n",
    "#print(f.read(20))\n",
    "#print(f.readline())\n",
    "#print(f.readline())\n",
    "#Readign the entire file \n",
    "for x in f:\n",
    "    print(x)"
   ]
  },
  {
   "cell_type": "code",
   "execution_count": 58,
   "metadata": {},
   "outputs": [
    {
     "data": {
      "text/plain": [
       "32"
      ]
     },
     "execution_count": 58,
     "metadata": {},
     "output_type": "execute_result"
    }
   ],
   "source": [
    "#appending the content \n",
    "f = open(\"hello.txt\", \"a\")\n",
    "f.write(\" This is the appending statement\")"
   ]
  },
  {
   "cell_type": "code",
   "execution_count": 54,
   "metadata": {},
   "outputs": [
    {
     "name": "stdout",
     "output_type": "stream",
     "text": [
      "Just testing \n",
      "\n",
      "Just testing 1\n",
      "\n",
      "Just testing 2\n",
      "\n",
      "Just testing 3\n",
      "\n",
      "Just testing 4\n",
      "\n",
      "Just testing 5 This is the appending statement This is the appending statement\n"
     ]
    }
   ],
   "source": [
    "\n",
    "f = open(\"hello.txt\", \"r\")\n",
    "for x in f:\n",
    "    print(x)"
   ]
  },
  {
   "cell_type": "code",
   "execution_count": 56,
   "metadata": {},
   "outputs": [
    {
     "data": {
      "text/plain": [
       "32"
      ]
     },
     "execution_count": 56,
     "metadata": {},
     "output_type": "execute_result"
    }
   ],
   "source": [
    "#rewritting the existing content \n",
    "f = open(\"hello.txt\", \"w\")\n",
    "f.write(\" This is the appending statement\")"
   ]
  },
  {
   "cell_type": "code",
   "execution_count": 57,
   "metadata": {},
   "outputs": [
    {
     "name": "stdout",
     "output_type": "stream",
     "text": [
      " This is the appending statement\n"
     ]
    }
   ],
   "source": [
    "f = open(\"hello.txt\", \"r\")\n",
    "for x in f:\n",
    "    print(x)"
   ]
  },
  {
   "cell_type": "code",
   "execution_count": 64,
   "metadata": {},
   "outputs": [],
   "source": [
    "f.close()"
   ]
  },
  {
   "cell_type": "code",
   "execution_count": 65,
   "metadata": {},
   "outputs": [
    {
     "ename": "PermissionError",
     "evalue": "[WinError 32] The process cannot access the file because it is being used by another process: 'C:\\\\users\\\\owner\\\\Desktop\\\\hello.txt'",
     "output_type": "error",
     "traceback": [
      "\u001b[1;31m---------------------------------------------------------------------------\u001b[0m",
      "\u001b[1;31mPermissionError\u001b[0m                           Traceback (most recent call last)",
      "\u001b[1;32m<ipython-input-65-8249297fafb5>\u001b[0m in \u001b[0;36m<module>\u001b[1;34m\u001b[0m\n\u001b[0;32m      1\u001b[0m \u001b[1;32mimport\u001b[0m \u001b[0mos\u001b[0m\u001b[1;33m\u001b[0m\u001b[1;33m\u001b[0m\u001b[0m\n\u001b[1;32m----> 2\u001b[1;33m \u001b[0mos\u001b[0m\u001b[1;33m.\u001b[0m\u001b[0mremove\u001b[0m\u001b[1;33m(\u001b[0m\u001b[1;34m\"C:\\\\users\\\\owner\\\\Desktop\\\\hello.txt\"\u001b[0m\u001b[1;33m)\u001b[0m\u001b[1;33m\u001b[0m\u001b[1;33m\u001b[0m\u001b[0m\n\u001b[0m",
      "\u001b[1;31mPermissionError\u001b[0m: [WinError 32] The process cannot access the file because it is being used by another process: 'C:\\\\users\\\\owner\\\\Desktop\\\\hello.txt'"
     ]
    }
   ],
   "source": [
    "import os \n",
    "os.remove(\"C:\\\\users\\\\owner\\\\Desktop\\\\hello.txt\")"
   ]
  },
  {
   "cell_type": "code",
   "execution_count": 66,
   "metadata": {},
   "outputs": [
    {
     "name": "stdout",
     "output_type": "stream",
     "text": [
      "t\n"
     ]
    }
   ],
   "source": [
    "List1 = ['Python', 'Py', 'Pyth', 'Python3'] \n",
    "print(List1[-1][2])"
   ]
  },
  {
   "cell_type": "code",
   "execution_count": 73,
   "metadata": {},
   "outputs": [
    {
     "name": "stdout",
     "output_type": "stream",
     "text": [
      "3 ['Hello', 'Py', 'Pyth', 'Python3', 'Python', 'Py', 'Pyth', 'Python3']\n"
     ]
    }
   ],
   "source": [
    "List1 = ['Python', 'Py', 'Pyth', 'Python3'] \n",
    "List2 = List1*2 \n",
    "List3 = List1[:] \n",
    "List2[0] = 'Hello' \n",
    "List3[1] = 'World' \n",
    "sum = 0 \n",
    "for ls in (List1, List2, List3): \n",
    "    if ls[0] == 'Hello': \n",
    "        sum += 1 \n",
    "    if ls[1] == 'World': \n",
    "        sum += 2 \n",
    "print(sum, List2)"
   ]
  },
  {
   "cell_type": "code",
   "execution_count": null,
   "metadata": {},
   "outputs": [],
   "source": []
  }
 ],
 "metadata": {
  "kernelspec": {
   "display_name": "Python 3",
   "language": "python",
   "name": "python3"
  },
  "language_info": {
   "codemirror_mode": {
    "name": "ipython",
    "version": 3
   },
   "file_extension": ".py",
   "mimetype": "text/x-python",
   "name": "python",
   "nbconvert_exporter": "python",
   "pygments_lexer": "ipython3",
   "version": "3.6.7"
  }
 },
 "nbformat": 4,
 "nbformat_minor": 2
}
